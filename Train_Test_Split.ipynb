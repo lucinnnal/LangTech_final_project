{
  "nbformat": 4,
  "nbformat_minor": 0,
  "metadata": {
    "colab": {
      "provenance": [],
      "mount_file_id": "1FNf3FIljopuKVl1N1U6KZgonRccTLZRT",
      "authorship_tag": "ABX9TyMT0q8qNgqfpmI62g1Qfkd6",
      "include_colab_link": true
    },
    "kernelspec": {
      "name": "python3",
      "display_name": "Python 3"
    },
    "language_info": {
      "name": "python"
    }
  },
  "cells": [
    {
      "cell_type": "markdown",
      "metadata": {
        "id": "view-in-github",
        "colab_type": "text"
      },
      "source": [
        "<a href=\"https://colab.research.google.com/github/lucinnnal/LangTech_final_project/blob/main/Train_Test_Split.ipynb\" target=\"_parent\"><img src=\"https://colab.research.google.com/assets/colab-badge.svg\" alt=\"Open In Colab\"/></a>"
      ]
    },
    {
      "cell_type": "code",
      "execution_count": 1,
      "metadata": {
        "colab": {
          "base_uri": "https://localhost:8080/"
        },
        "id": "7p2B9HvHzibI",
        "outputId": "5c86e94a-54f4-43ce-cf1a-efce387acd26"
      },
      "outputs": [
        {
          "output_type": "stream",
          "name": "stdout",
          "text": [
            "Train 데이터 저장: /content/drive/MyDrive/Lang_tech_final_project/train.csv\n",
            "Test 데이터 저장: /content/drive/MyDrive/Lang_tech_final_project/test.csv\n"
          ]
        }
      ],
      "source": [
        "import pandas as pd\n",
        "import numpy as np\n",
        "\n",
        "def split_csv_to_train_test(input_csv_path, output_train_path, output_test_path, test_size=0.2, shuffle=True, random_state=None):\n",
        "\n",
        "    dataframe = pd.read_csv(input_csv_path)\n",
        "\n",
        "    if shuffle:\n",
        "        dataframe = dataframe.sample(frac=1, random_state=random_state).reset_index(drop=True)\n",
        "\n",
        "    split_idx = int(len(dataframe) * (1 - test_size))\n",
        "\n",
        "    train_set = dataframe.iloc[:split_idx].reset_index(drop=True)\n",
        "    test_set = dataframe.iloc[split_idx:].reset_index(drop=True)\n",
        "\n",
        "    train_set.to_csv(output_train_path, index=False)\n",
        "    test_set.to_csv(output_test_path, index=False)\n",
        "\n",
        "    print(f\"Train 데이터 저장: {output_train_path}\")\n",
        "    print(f\"Test 데이터 저장: {output_test_path}\")\n",
        "\n",
        "# 사용 예시\n",
        "if __name__ == \"__main__\":\n",
        "    input_csv = \"/content/drive/MyDrive/Lang_tech_final_project/Suicide_Detection 2.csv\"  # 입력 CSV 파일 경로\n",
        "    train_csv = \"/content/drive/MyDrive/Lang_tech_final_project/train.csv\"  # train 데이터 저장 경로\n",
        "    test_csv = \"/content/drive/MyDrive/Lang_tech_final_project/test.csv\"    # test 데이터 저장 경로\n",
        "\n",
        "    split_csv_to_train_test(input_csv, train_csv, test_csv, test_size=0.2, shuffle=True, random_state=42)\n"
      ]
    }
  ]
}